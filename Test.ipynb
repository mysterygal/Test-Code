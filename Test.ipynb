{
  "nbformat": 4,
  "nbformat_minor": 0,
  "metadata": {
    "colab": {
      "name": "Test.ipynb",
      "provenance": [],
      "collapsed_sections": []
    },
    "kernelspec": {
      "name": "python3",
      "display_name": "Python 3"
    }
  },
  "cells": [
    {
      "cell_type": "markdown",
      "metadata": {
        "id": "kAvwnEe3BL2W"
      },
      "source": [
        "#Importing libraries and Mounting Drive"
      ]
    },
    {
      "cell_type": "code",
      "metadata": {
        "id": "e2EUn1ZQEQuK"
      },
      "source": [
        "import pandas as pd"
      ],
      "execution_count": 1,
      "outputs": []
    },
    {
      "cell_type": "code",
      "metadata": {
        "id": "ZGCwLD4CEcsB",
        "outputId": "6ed0e337-c070-40f3-b389-ad805b7d0b1b",
        "colab": {
          "base_uri": "https://localhost:8080/",
          "height": 34
        }
      },
      "source": [
        "from google.colab import drive\n",
        "drive.mount('/content/drive')"
      ],
      "execution_count": 2,
      "outputs": [
        {
          "output_type": "stream",
          "text": [
            "Drive already mounted at /content/drive; to attempt to forcibly remount, call drive.mount(\"/content/drive\", force_remount=True).\n"
          ],
          "name": "stdout"
        }
      ]
    },
    {
      "cell_type": "markdown",
      "metadata": {
        "id": "h760cKQrBUKz"
      },
      "source": [
        "#Reading the csv fie"
      ]
    },
    {
      "cell_type": "code",
      "metadata": {
        "id": "95IwyuhoEorM"
      },
      "source": [
        "train_df = pd.read_csv( '/content/drive/My Drive/coupons_ner.csv',delimiter=',')"
      ],
      "execution_count": 3,
      "outputs": []
    },
    {
      "cell_type": "code",
      "metadata": {
        "id": "EQoCqh6gFf08",
        "outputId": "1a40f652-a759-42a6-c5c4-807502b7b2cb",
        "colab": {
          "base_uri": "https://localhost:8080/",
          "height": 34
        }
      },
      "source": [
        "train_df.shape"
      ],
      "execution_count": 4,
      "outputs": [
        {
          "output_type": "execute_result",
          "data": {
            "text/plain": [
              "(885, 1)"
            ]
          },
          "metadata": {
            "tags": []
          },
          "execution_count": 4
        }
      ]
    },
    {
      "cell_type": "code",
      "metadata": {
        "id": "SNN67BGpFYMV",
        "outputId": "102a3d9c-ca10-4ade-f356-0002cf00c496",
        "colab": {
          "base_uri": "https://localhost:8080/",
          "height": 202
        }
      },
      "source": [
        "\n",
        "train_df.columns=['text'] \n",
        "train_df.head()"
      ],
      "execution_count": 5,
      "outputs": [
        {
          "output_type": "execute_result",
          "data": {
            "text/html": [
              "<div>\n",
              "<style scoped>\n",
              "    .dataframe tbody tr th:only-of-type {\n",
              "        vertical-align: middle;\n",
              "    }\n",
              "\n",
              "    .dataframe tbody tr th {\n",
              "        vertical-align: top;\n",
              "    }\n",
              "\n",
              "    .dataframe thead th {\n",
              "        text-align: right;\n",
              "    }\n",
              "</style>\n",
              "<table border=\"1\" class=\"dataframe\">\n",
              "  <thead>\n",
              "    <tr style=\"text-align: right;\">\n",
              "      <th></th>\n",
              "      <th>text</th>\n",
              "    </tr>\n",
              "  </thead>\n",
              "  <tbody>\n",
              "    <tr>\n",
              "      <th>0</th>\n",
              "      <td>Save $2.00 ONE Tide PODS OR Tide Power PODS (e...</td>\n",
              "    </tr>\n",
              "    <tr>\n",
              "      <th>1</th>\n",
              "      <td>Save $2.00 ONE Tide Laundry Detergent (exclude...</td>\n",
              "    </tr>\n",
              "    <tr>\n",
              "      <th>2</th>\n",
              "      <td>SAVE $1.00 ON TWO when you buy TWO BOXES (8.9 ...</td>\n",
              "    </tr>\n",
              "    <tr>\n",
              "      <th>3</th>\n",
              "      <td>$3.00 OFF when you purchase any THREE (3) Pepp...</td>\n",
              "    </tr>\n",
              "    <tr>\n",
              "      <th>4</th>\n",
              "      <td>SAVE $1.11 when you buy any ONE (1) Familly Si...</td>\n",
              "    </tr>\n",
              "  </tbody>\n",
              "</table>\n",
              "</div>"
            ],
            "text/plain": [
              "                                                text\n",
              "0  Save $2.00 ONE Tide PODS OR Tide Power PODS (e...\n",
              "1  Save $2.00 ONE Tide Laundry Detergent (exclude...\n",
              "2  SAVE $1.00 ON TWO when you buy TWO BOXES (8.9 ...\n",
              "3  $3.00 OFF when you purchase any THREE (3) Pepp...\n",
              "4  SAVE $1.11 when you buy any ONE (1) Familly Si..."
            ]
          },
          "metadata": {
            "tags": []
          },
          "execution_count": 5
        }
      ]
    },
    {
      "cell_type": "markdown",
      "metadata": {
        "id": "0XCms7WIFLeo"
      },
      "source": [
        "#Writing function for Exercise 1:\n",
        "Write a function that takes OfferDetails as input, and returns FaceValue as output"
      ]
    },
    {
      "cell_type": "code",
      "metadata": {
        "id": "SkQTzha4Firs"
      },
      "source": [
        "import re"
      ],
      "execution_count": 6,
      "outputs": []
    },
    {
      "cell_type": "code",
      "metadata": {
        "id": "I_V-AUFcdWn4"
      },
      "source": [
        "def faceval():\n",
        "  l=[]\n",
        "  for  i in range(train_df.shape[0]):\n",
        "    txt=train_df['text'][i]\n",
        "\n",
        "    x = re.findall('\\$\\d.?\\d?\\d?', txt)\n",
        "    if(x==[]):\n",
        "      y=re.findall('\\d\\d¢', txt)\n",
        "      if(y!=[]):\n",
        "        l.append([\"$\"+str(int(y[0][0:2])/100)])\n",
        "        continue\n",
        "    l.append(x)\n",
        "  return l\n",
        "\n"
      ],
      "execution_count": 21,
      "outputs": []
    },
    {
      "cell_type": "markdown",
      "metadata": {
        "id": "1DLTLXeQJTgU"
      },
      "source": [
        "#This is the Accuracy estimatrion where empty list is considered as no output "
      ]
    },
    {
      "cell_type": "code",
      "metadata": {
        "id": "E0n0O4oH590K",
        "outputId": "623ef85a-4b6a-423e-b70b-84209e995a49",
        "colab": {
          "base_uri": "https://localhost:8080/",
          "height": 52
        }
      },
      "source": [
        "\n",
        "c=0\n",
        "for i in l:\n",
        "  if(i==[]):\n",
        "    c=c+1\n",
        "print(c)\n",
        "print((len(l)-c)/len(l)*100)"
      ],
      "execution_count": 11,
      "outputs": [
        {
          "output_type": "stream",
          "text": [
            "281\n",
            "68.24858757062147\n"
          ],
          "name": "stdout"
        }
      ]
    },
    {
      "cell_type": "markdown",
      "metadata": {
        "id": "Qp_7ZZdVJK4b"
      },
      "source": [
        "#Writing the fucntion for excercise 2:Write a function that takes OfferDetails as input, and returns Product as output (Product can be single or array)"
      ]
    },
    {
      "cell_type": "code",
      "metadata": {
        "id": "abqlf1IZISa_"
      },
      "source": [
        "\n",
        "import spacy \n",
        " #spacy loading \n",
        "nlp = spacy.load('en_core_web_sm') \n"
      ],
      "execution_count": 12,
      "outputs": []
    },
    {
      "cell_type": "code",
      "metadata": {
        "id": "JAFOQwOeIvZk"
      },
      "source": [
        "def prod():\n",
        "  prod=[]\n",
        "  for  i in range(train_df.shape[0]):\n",
        "    #gettingo our sentence\n",
        "    sentence = train_df['text'][i]\n",
        "      #converting to document\n",
        "    doc = nlp(sentence) \n",
        "    pr=[]\n",
        "    for ent in doc.ents: \n",
        "        if(ent.label_=='PRODUCT' or ent.label_=='ORG'):\n",
        "          pr.append(ent.text)\n",
        "    prod.append(pr)\n",
        "  return prod"
      ],
      "execution_count": 25,
      "outputs": []
    },
    {
      "cell_type": "code",
      "metadata": {
        "id": "VwDw9nlDNP7z"
      },
      "source": [
        "k=prod()"
      ],
      "execution_count": 27,
      "outputs": []
    },
    {
      "cell_type": "markdown",
      "metadata": {
        "id": "chlwjOp9JkMN"
      },
      "source": [
        "#This is the Accuracy estimatrion where empty list is considered as no output "
      ]
    },
    {
      "cell_type": "code",
      "metadata": {
        "id": "c06KGz296gJR",
        "outputId": "b8c0cbae-c5f2-449d-83af-022715b91be8",
        "colab": {
          "base_uri": "https://localhost:8080/",
          "height": 52
        }
      },
      "source": [
        "c=0\n",
        "for i in prod:\n",
        "  if(i==[]):\n",
        "    c=c+1\n",
        "print(c)\n",
        "print((len(prod)-c)/len(prod)*100)"
      ],
      "execution_count": 15,
      "outputs": [
        {
          "output_type": "stream",
          "text": [
            "412\n",
            "53.44632768361583\n"
          ],
          "name": "stdout"
        }
      ]
    }
  ]
}